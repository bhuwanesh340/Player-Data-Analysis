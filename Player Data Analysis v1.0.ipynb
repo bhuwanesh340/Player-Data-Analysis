{
 "cells": [
  {
   "cell_type": "markdown",
   "metadata": {},
   "source": [
    "## Import Libraries"
   ]
  },
  {
   "cell_type": "code",
   "execution_count": 1,
   "metadata": {},
   "outputs": [],
   "source": [
    "import numpy as np\n",
    "import pandas as pd\n",
    "import re\n",
    "from datetime import date \n",
    "import matplotlib.pyplot as plt\n",
    "import seaborn as sns"
   ]
  },
  {
   "cell_type": "markdown",
   "metadata": {},
   "source": [
    "## Read Data"
   ]
  },
  {
   "cell_type": "code",
   "execution_count": 2,
   "metadata": {},
   "outputs": [],
   "source": [
    "# Read the data and dump it\n",
    "f = open(\"Final-player.txt\", \"r\")\n",
    "dump = f.read()"
   ]
  },
  {
   "cell_type": "code",
   "execution_count": 3,
   "metadata": {},
   "outputs": [],
   "source": [
    "# Split every line of the data \n",
    "dump = dump.split(\"\\n\")"
   ]
  },
  {
   "cell_type": "code",
   "execution_count": 4,
   "metadata": {},
   "outputs": [],
   "source": [
    "# Create 3 different lists to store data\n",
    "player_info = []\n",
    "transfer_info = []\n",
    "injury_info = []\n",
    "for i in dump:\n",
    "    player_info.append(i.split(\", [\")[0])\n",
    "    transfer_info.append(i.split(\", [\")[1])\n",
    "    injury_info.append(i.split(\", [\")[2])"
   ]
  },
  {
   "cell_type": "markdown",
   "metadata": {},
   "source": [
    "# Data Cleaning\n",
    "\n",
    "I have divided the data into 3 different sections: <br>\n",
    "#1st: Which contains player's basic details <br>\n",
    "#2nd: Player's transfer data <br>\n",
    "#3rd: Player's injuries data <br>"
   ]
  },
  {
   "cell_type": "markdown",
   "metadata": {},
   "source": [
    "## Data cleaning of Player's info"
   ]
  },
  {
   "cell_type": "code",
   "execution_count": 5,
   "metadata": {},
   "outputs": [
    {
     "data": {
      "text/html": [
       "<div>\n",
       "<style scoped>\n",
       "    .dataframe tbody tr th:only-of-type {\n",
       "        vertical-align: middle;\n",
       "    }\n",
       "\n",
       "    .dataframe tbody tr th {\n",
       "        vertical-align: top;\n",
       "    }\n",
       "\n",
       "    .dataframe thead th {\n",
       "        text-align: right;\n",
       "    }\n",
       "</style>\n",
       "<table border=\"1\" class=\"dataframe\">\n",
       "  <thead>\n",
       "    <tr style=\"text-align: right;\">\n",
       "      <th></th>\n",
       "      <th>playerId</th>\n",
       "      <th>name</th>\n",
       "      <th>club</th>\n",
       "      <th>club_value</th>\n",
       "      <th>birth</th>\n",
       "      <th>weight</th>\n",
       "      <th>height</th>\n",
       "      <th>country</th>\n",
       "      <th>role</th>\n",
       "      <th>foot</th>\n",
       "    </tr>\n",
       "  </thead>\n",
       "  <tbody>\n",
       "    <tr>\n",
       "      <th>0</th>\n",
       "      <td>[(u'238223'</td>\n",
       "      <td>'Ederson'</td>\n",
       "      <td>'Manchester City'</td>\n",
       "      <td>'1,14 Bill. \\u20ac'</td>\n",
       "      <td>'1993-08-17'</td>\n",
       "      <td>'89'</td>\n",
       "      <td>'1,88\\xa0'</td>\n",
       "      <td>'Brazil'</td>\n",
       "      <td>'Goalkeeper'</td>\n",
       "      <td>'left'</td>\n",
       "    </tr>\n",
       "    <tr>\n",
       "      <th>1</th>\n",
       "      <td>(u'40423'</td>\n",
       "      <td>'Claudio Bravo'</td>\n",
       "      <td>'Manchester City'</td>\n",
       "      <td>'1,14 Bill. \\u20ac'</td>\n",
       "      <td>'1983-04-13'</td>\n",
       "      <td>'84'</td>\n",
       "      <td>'1,84\\xa0'</td>\n",
       "      <td>'Chile'</td>\n",
       "      <td>'Goalkeeper'</td>\n",
       "      <td>'right'</td>\n",
       "    </tr>\n",
       "    <tr>\n",
       "      <th>2</th>\n",
       "      <td>(u'371021'</td>\n",
       "      <td>'Arijanet Muri\\u0107'</td>\n",
       "      <td>'Manchester City'</td>\n",
       "      <td>'1,14 Bill. \\u20ac'</td>\n",
       "      <td>'1998-11-07'</td>\n",
       "      <td>'-'</td>\n",
       "      <td>'1,98\\xa0'</td>\n",
       "      <td>'Kosovo'</td>\n",
       "      <td>'Goalkeeper'</td>\n",
       "      <td>'right'</td>\n",
       "    </tr>\n",
       "    <tr>\n",
       "      <th>3</th>\n",
       "      <td>(u'186590'</td>\n",
       "      <td>'John Stones'</td>\n",
       "      <td>'Manchester City'</td>\n",
       "      <td>'1,14 Bill. \\u20ac'</td>\n",
       "      <td>'1994-05-28'</td>\n",
       "      <td>'69'</td>\n",
       "      <td>'1,88\\xa0'</td>\n",
       "      <td>'England'</td>\n",
       "      <td>'Defender - Centre-Back'</td>\n",
       "      <td>'right'</td>\n",
       "    </tr>\n",
       "    <tr>\n",
       "      <th>4</th>\n",
       "      <td>(u'176553'</td>\n",
       "      <td>'Aymeric Laporte'</td>\n",
       "      <td>'Manchester City'</td>\n",
       "      <td>'1,14 Bill. \\u20ac'</td>\n",
       "      <td>'1994-05-27'</td>\n",
       "      <td>'85'</td>\n",
       "      <td>'1,91\\xa0'</td>\n",
       "      <td>'France'</td>\n",
       "      <td>'Defender - Centre-Back'</td>\n",
       "      <td>'left'</td>\n",
       "    </tr>\n",
       "  </tbody>\n",
       "</table>\n",
       "</div>"
      ],
      "text/plain": [
       "      playerId                   name               club           club_value  \\\n",
       "0  [(u'238223'              'Ederson'  'Manchester City'  '1,14 Bill. \\u20ac'   \n",
       "1    (u'40423'        'Claudio Bravo'  'Manchester City'  '1,14 Bill. \\u20ac'   \n",
       "2   (u'371021'  'Arijanet Muri\\u0107'  'Manchester City'  '1,14 Bill. \\u20ac'   \n",
       "3   (u'186590'          'John Stones'  'Manchester City'  '1,14 Bill. \\u20ac'   \n",
       "4   (u'176553'      'Aymeric Laporte'  'Manchester City'  '1,14 Bill. \\u20ac'   \n",
       "\n",
       "          birth weight      height    country                      role  \\\n",
       "0  '1993-08-17'   '89'  '1,88\\xa0'   'Brazil'              'Goalkeeper'   \n",
       "1  '1983-04-13'   '84'  '1,84\\xa0'    'Chile'              'Goalkeeper'   \n",
       "2  '1998-11-07'    '-'  '1,98\\xa0'   'Kosovo'              'Goalkeeper'   \n",
       "3  '1994-05-28'   '69'  '1,88\\xa0'  'England'  'Defender - Centre-Back'   \n",
       "4  '1994-05-27'   '85'  '1,91\\xa0'   'France'  'Defender - Centre-Back'   \n",
       "\n",
       "      foot  \n",
       "0   'left'  \n",
       "1  'right'  \n",
       "2  'right'  \n",
       "3  'right'  \n",
       "4   'left'  "
      ]
     },
     "execution_count": 5,
     "metadata": {},
     "output_type": "execute_result"
    }
   ],
   "source": [
    "# Create a dataframe from the list\n",
    "player_info_df = pd.DataFrame(player_info)\n",
    "\n",
    "# Rename the column\n",
    "player_info_df.columns = [\"Player_Info\"]\n",
    "\n",
    "#Creating separate columns for each field\n",
    "columns = ['playerId', 'name', 'club', 'club_value', 'birth', 'weight', 'height', 'country', 'role', 'foot']\n",
    "\n",
    "for i, col in zip(range(len(columns)), columns):\n",
    "    player_info_df[col] = player_info_df['Player_Info'].str.split(\", u\", n=9, expand=True)[i]\n",
    "\n",
    "\n",
    "player_info_df.drop([\"Player_Info\"], axis=1, inplace=True)\n",
    "\n",
    "player_info_df.head()"
   ]
  },
  {
   "cell_type": "code",
   "execution_count": 6,
   "metadata": {},
   "outputs": [
    {
     "data": {
      "text/html": [
       "<div>\n",
       "<style scoped>\n",
       "    .dataframe tbody tr th:only-of-type {\n",
       "        vertical-align: middle;\n",
       "    }\n",
       "\n",
       "    .dataframe tbody tr th {\n",
       "        vertical-align: top;\n",
       "    }\n",
       "\n",
       "    .dataframe thead th {\n",
       "        text-align: right;\n",
       "    }\n",
       "</style>\n",
       "<table border=\"1\" class=\"dataframe\">\n",
       "  <thead>\n",
       "    <tr style=\"text-align: right;\">\n",
       "      <th></th>\n",
       "      <th>playerId</th>\n",
       "      <th>name</th>\n",
       "      <th>club</th>\n",
       "      <th>club_value</th>\n",
       "      <th>birth</th>\n",
       "      <th>weight</th>\n",
       "      <th>height</th>\n",
       "      <th>country</th>\n",
       "      <th>role</th>\n",
       "      <th>foot</th>\n",
       "      <th>player_age</th>\n",
       "    </tr>\n",
       "  </thead>\n",
       "  <tbody>\n",
       "    <tr>\n",
       "      <th>0</th>\n",
       "      <td>238223</td>\n",
       "      <td>Ederson</td>\n",
       "      <td>Manchester City</td>\n",
       "      <td>1,14 Bill.</td>\n",
       "      <td>1993-08-17</td>\n",
       "      <td>89.0</td>\n",
       "      <td>188.0</td>\n",
       "      <td>Brazil</td>\n",
       "      <td>Goalkeeper</td>\n",
       "      <td>left</td>\n",
       "      <td>27.0</td>\n",
       "    </tr>\n",
       "    <tr>\n",
       "      <th>1</th>\n",
       "      <td>40423</td>\n",
       "      <td>Claudio Bravo</td>\n",
       "      <td>Manchester City</td>\n",
       "      <td>1,14 Bill.</td>\n",
       "      <td>1983-04-13</td>\n",
       "      <td>84.0</td>\n",
       "      <td>184.0</td>\n",
       "      <td>Chile</td>\n",
       "      <td>Goalkeeper</td>\n",
       "      <td>right</td>\n",
       "      <td>37.0</td>\n",
       "    </tr>\n",
       "    <tr>\n",
       "      <th>2</th>\n",
       "      <td>371021</td>\n",
       "      <td>Arijanet Muri\\u0107</td>\n",
       "      <td>Manchester City</td>\n",
       "      <td>1,14 Bill.</td>\n",
       "      <td>1998-11-07</td>\n",
       "      <td>NaN</td>\n",
       "      <td>198.0</td>\n",
       "      <td>Kosovo</td>\n",
       "      <td>Goalkeeper</td>\n",
       "      <td>right</td>\n",
       "      <td>22.0</td>\n",
       "    </tr>\n",
       "    <tr>\n",
       "      <th>3</th>\n",
       "      <td>186590</td>\n",
       "      <td>John Stones</td>\n",
       "      <td>Manchester City</td>\n",
       "      <td>1,14 Bill.</td>\n",
       "      <td>1994-05-28</td>\n",
       "      <td>69.0</td>\n",
       "      <td>188.0</td>\n",
       "      <td>England</td>\n",
       "      <td>Defender - Centre-Back</td>\n",
       "      <td>right</td>\n",
       "      <td>26.0</td>\n",
       "    </tr>\n",
       "    <tr>\n",
       "      <th>4</th>\n",
       "      <td>176553</td>\n",
       "      <td>Aymeric Laporte</td>\n",
       "      <td>Manchester City</td>\n",
       "      <td>1,14 Bill.</td>\n",
       "      <td>1994-05-27</td>\n",
       "      <td>85.0</td>\n",
       "      <td>191.0</td>\n",
       "      <td>France</td>\n",
       "      <td>Defender - Centre-Back</td>\n",
       "      <td>left</td>\n",
       "      <td>26.0</td>\n",
       "    </tr>\n",
       "  </tbody>\n",
       "</table>\n",
       "</div>"
      ],
      "text/plain": [
       "  playerId                 name             club  club_value       birth  \\\n",
       "0   238223              Ederson  Manchester City  1,14 Bill.  1993-08-17   \n",
       "1    40423        Claudio Bravo  Manchester City  1,14 Bill.  1983-04-13   \n",
       "2   371021  Arijanet Muri\\u0107  Manchester City  1,14 Bill.  1998-11-07   \n",
       "3   186590          John Stones  Manchester City  1,14 Bill.  1994-05-28   \n",
       "4   176553      Aymeric Laporte  Manchester City  1,14 Bill.  1994-05-27   \n",
       "\n",
       "   weight  height  country                    role   foot  player_age  \n",
       "0    89.0   188.0   Brazil              Goalkeeper   left        27.0  \n",
       "1    84.0   184.0    Chile              Goalkeeper  right        37.0  \n",
       "2     NaN   198.0   Kosovo              Goalkeeper  right        22.0  \n",
       "3    69.0   188.0  England  Defender - Centre-Back  right        26.0  \n",
       "4    85.0   191.0   France  Defender - Centre-Back   left        26.0  "
      ]
     },
     "execution_count": 6,
     "metadata": {},
     "output_type": "execute_result"
    }
   ],
   "source": [
    "# Rules for the columns to clean data\n",
    "player_info_df[\"height\"] = player_info_df[\"height\"].apply(lambda x: str(x)[1:-5])\n",
    "player_info_df[\"club_value\"] = player_info_df[\"club_value\"].apply(lambda x: x[1:-8])\n",
    "\n",
    "char_col = ['name', 'club', 'birth', 'country', 'role', 'foot']\n",
    "for col in char_col:\n",
    "    player_info_df[col] = player_info_df[col].apply(lambda x: str(x)[1:-1])\n",
    "    \n",
    "num_col = [\"playerId\", \"height\", \"weight\"]\n",
    "for col in num_col:\n",
    "    player_info_df[col] = player_info_df[col].apply(lambda x: re.sub('\\D', '', str(x)))\n",
    "\n",
    "player_info_df[\"height\"] = player_info_df[\"height\"].apply(lambda x: np.nan if x == '' else float(x))\n",
    "player_info_df[\"weight\"] = player_info_df[\"weight\"].apply(lambda x: np.nan if x == '' else float(x))\n",
    "\n",
    "# Keep only non-missing birth players\n",
    "#player_info_df = player_info_df[player_info_df[\"birth\"] != \"\"]\n",
    "\n",
    "# Calculate age of the player\n",
    "player_info_df[\"birth_year\"] = player_info_df['birth'].str.split(\"-\", n=3, expand=True)[0]\n",
    "player_info_df[\"curr_year\"] = str(date.today()).split(\"-\")[0]\n",
    "\n",
    "player_info_df[\"birth_year\"] = player_info_df[\"birth_year\"].apply(lambda x: re.sub('\\D', '', str(x)))\n",
    "player_info_df[\"birth_year\"] = player_info_df[\"birth_year\"].apply(lambda x: np.nan if x==\"\"\n",
    "                                                                              else float(x))\n",
    "\n",
    "player_info_df[\"curr_year\"] = player_info_df[\"curr_year\"].apply(lambda x: re.sub('\\D', '', str(x)))\n",
    "player_info_df[\"curr_year\"] = player_info_df[\"curr_year\"].apply(lambda x: np.nan if x==\"\"\n",
    "                                                                              else float(x))\n",
    "\n",
    "# Difference of current year with birth year \n",
    "player_info_df[\"player_age\"] = player_info_df[\"curr_year\"] - player_info_df[\"birth_year\"]\n",
    "#player_info_df = player_info_df[player_info_df[\"player_age\"] != np.nan]\n",
    "\n",
    "# Clean Club value field\n",
    "player_info_df[\"num\"] = player_info_df[\"club_value\"].str.split(\" \", n=2, expand=True)[0]\n",
    "player_info_df[\"deno\"] = player_info_df[\"club_value\"].str.split(\" \", n=2, expand=True)[1]\n",
    "player_info_df[\"final_value\"] = player_info_df[\"num\"] + \" \" + player_info_df[\"deno\"]\n",
    "player_info_df[\"club_value\"] = player_info_df[\"final_value\"]\n",
    "\n",
    "# Delete irrelevant columns\n",
    "player_info_df.drop([\"num\",\"deno\",\"final_value\", \"birth_year\", \"curr_year\"], axis=1, inplace=True)\n",
    "\n",
    "player_info_df.head()"
   ]
  },
  {
   "cell_type": "markdown",
   "metadata": {},
   "source": [
    "## Player's Transfer Data Cleaning"
   ]
  },
  {
   "cell_type": "code",
   "execution_count": 8,
   "metadata": {},
   "outputs": [
    {
     "data": {
      "text/html": [
       "<div>\n",
       "<style scoped>\n",
       "    .dataframe tbody tr th:only-of-type {\n",
       "        vertical-align: middle;\n",
       "    }\n",
       "\n",
       "    .dataframe tbody tr th {\n",
       "        vertical-align: top;\n",
       "    }\n",
       "\n",
       "    .dataframe thead th {\n",
       "        text-align: right;\n",
       "    }\n",
       "</style>\n",
       "<table border=\"1\" class=\"dataframe\">\n",
       "  <thead>\n",
       "    <tr style=\"text-align: right;\">\n",
       "      <th></th>\n",
       "      <th>transfer_info</th>\n",
       "      <th>no_of_transfers</th>\n",
       "      <th>playerId</th>\n",
       "    </tr>\n",
       "  </thead>\n",
       "  <tbody>\n",
       "    <tr>\n",
       "      <th>0</th>\n",
       "      <td>(u'\\nBenfica ', u'\\nMan City ', u'17/18', u'Ju...</td>\n",
       "      <td>6</td>\n",
       "      <td>238223</td>\n",
       "    </tr>\n",
       "    <tr>\n",
       "      <th>1</th>\n",
       "      <td>(u'\\nFC Barcelona ', u'\\nMan City ', u'16/17',...</td>\n",
       "      <td>4</td>\n",
       "      <td>40423</td>\n",
       "    </tr>\n",
       "    <tr>\n",
       "      <th>2</th>\n",
       "      <td>(u'\\nNAC Breda ', u'\\nMan City ', u'18/19', u'...</td>\n",
       "      <td>8</td>\n",
       "      <td>371021</td>\n",
       "    </tr>\n",
       "    <tr>\n",
       "      <th>3</th>\n",
       "      <td>(u'\\nEverton ', u'\\nMan City ', u'16/17', u'Au...</td>\n",
       "      <td>3</td>\n",
       "      <td>186590</td>\n",
       "    </tr>\n",
       "    <tr>\n",
       "      <th>4</th>\n",
       "      <td>(u'\\nAthletic ', u'\\nMan City ', u'17/18', u'J...</td>\n",
       "      <td>4</td>\n",
       "      <td>176553</td>\n",
       "    </tr>\n",
       "  </tbody>\n",
       "</table>\n",
       "</div>"
      ],
      "text/plain": [
       "                                       transfer_info  no_of_transfers playerId\n",
       "0  (u'\\nBenfica ', u'\\nMan City ', u'17/18', u'Ju...                6   238223\n",
       "1  (u'\\nFC Barcelona ', u'\\nMan City ', u'16/17',...                4    40423\n",
       "2  (u'\\nNAC Breda ', u'\\nMan City ', u'18/19', u'...                8   371021\n",
       "3  (u'\\nEverton ', u'\\nMan City ', u'16/17', u'Au...                3   186590\n",
       "4  (u'\\nAthletic ', u'\\nMan City ', u'17/18', u'J...                4   176553"
      ]
     },
     "execution_count": 8,
     "metadata": {},
     "output_type": "execute_result"
    }
   ],
   "source": [
    "# Create a dataframe from the list\n",
    "transfer_info_df = pd.DataFrame(transfer_info, columns=[\"transfer_info\"])\n",
    "\n",
    "# Calculate number of transfer for the player\n",
    "transfer_info_df[\"no_of_transfers\"] = transfer_info_df[\"transfer_info\"].apply(lambda x: str(x).count(\"(u\"))\n",
    "\n",
    "# Take Player_id column from player info\n",
    "transfer_info_df[\"playerId\"] = player_info_df[\"playerId\"]\n",
    "transfer_info_df.head()"
   ]
  },
  {
   "cell_type": "code",
   "execution_count": 9,
   "metadata": {},
   "outputs": [],
   "source": [
    "# Code to create distinct rows for every transfer of the player\n",
    "temp_df1 = pd.DataFrame()\n",
    "for row in range(transfer_info_df.shape[0]):\n",
    "    for val in transfer_info_df[\"transfer_info\"].iloc[row].split(\", (\"):\n",
    "        #for item in range(len(transfer_info_df[\"transfer_info\"].iloc[row].split(\", (\"))):\n",
    "        temp_dict1 = {}\n",
    "        temp_dict1[\"playerId\"] = transfer_info_df[\"playerId\"].iloc[row]\n",
    "        temp_dict1[\"no_of_transfers\"] = transfer_info_df[\"no_of_transfers\"].iloc[row]\n",
    "        try:\n",
    "            temp_dict1[\"from_club\"] = val.split(\", u\")[0]\n",
    "        except:\n",
    "            temp_dict1[\"from_club\"] = ''\n",
    "        try:\n",
    "            temp_dict1[\"to_club\"] = val.split(\", u\")[1]\n",
    "        except:\n",
    "            temp_dict1[\"to_club\"] = ''\n",
    "        try:\n",
    "            temp_dict1[\"season\"] = val.split(\", u\")[2]\n",
    "        except:\n",
    "            temp_dict1[\"season\"] = ''\n",
    "        try:\n",
    "            temp_dict1[\"date\"] = val.split(\", u\")[3]\n",
    "        except:\n",
    "            temp_dict1[\"date\"] = ''\n",
    "\n",
    "        temp_dict_df1 = pd.DataFrame([temp_dict1])\n",
    "\n",
    "        frames = [temp_df1, temp_dict_df1]\n",
    "        temp_df1 = pd.concat([temp_df1, temp_dict_df1])\n",
    "            "
   ]
  },
  {
   "cell_type": "code",
   "execution_count": 10,
   "metadata": {},
   "outputs": [],
   "source": [
    "# Create a new dataset to store updated transfer data\n",
    "transfer_info_df_updated = temp_df1\n",
    "\n",
    "# Reset index of the dataset\n",
    "transfer_info_df_updated.reset_index(drop=True, inplace=True)"
   ]
  },
  {
   "cell_type": "code",
   "execution_count": 11,
   "metadata": {},
   "outputs": [
    {
     "data": {
      "text/html": [
       "<div>\n",
       "<style scoped>\n",
       "    .dataframe tbody tr th:only-of-type {\n",
       "        vertical-align: middle;\n",
       "    }\n",
       "\n",
       "    .dataframe tbody tr th {\n",
       "        vertical-align: top;\n",
       "    }\n",
       "\n",
       "    .dataframe thead th {\n",
       "        text-align: right;\n",
       "    }\n",
       "</style>\n",
       "<table border=\"1\" class=\"dataframe\">\n",
       "  <thead>\n",
       "    <tr style=\"text-align: right;\">\n",
       "      <th></th>\n",
       "      <th>date</th>\n",
       "      <th>from_club</th>\n",
       "      <th>no_of_transfers</th>\n",
       "      <th>playerId</th>\n",
       "      <th>season</th>\n",
       "      <th>to_club</th>\n",
       "    </tr>\n",
       "  </thead>\n",
       "  <tbody>\n",
       "    <tr>\n",
       "      <th>0</th>\n",
       "      <td>Jul 1, 2017</td>\n",
       "      <td>Benfica</td>\n",
       "      <td>6</td>\n",
       "      <td>238223</td>\n",
       "      <td>17/18</td>\n",
       "      <td>Man City</td>\n",
       "    </tr>\n",
       "    <tr>\n",
       "      <th>1</th>\n",
       "      <td>Jul 1, 2015</td>\n",
       "      <td>io Ave FC</td>\n",
       "      <td>6</td>\n",
       "      <td>238223</td>\n",
       "      <td>15/16</td>\n",
       "      <td>Benfica</td>\n",
       "    </tr>\n",
       "    <tr>\n",
       "      <th>2</th>\n",
       "      <td>Jul 1, 2012</td>\n",
       "      <td>D Ribeir\\xe3o</td>\n",
       "      <td>6</td>\n",
       "      <td>238223</td>\n",
       "      <td>12/13</td>\n",
       "      <td>Rio Ave FC</td>\n",
       "    </tr>\n",
       "    <tr>\n",
       "      <th>3</th>\n",
       "      <td>Jul 1, 2011</td>\n",
       "      <td>enfica U19</td>\n",
       "      <td>6</td>\n",
       "      <td>238223</td>\n",
       "      <td>11/12</td>\n",
       "      <td>GD Ribeir\\xe3o</td>\n",
       "    </tr>\n",
       "    <tr>\n",
       "      <th>4</th>\n",
       "      <td>Jul 1, 2010</td>\n",
       "      <td>enfica U17</td>\n",
       "      <td>6</td>\n",
       "      <td>238223</td>\n",
       "      <td>10/11</td>\n",
       "      <td>Benfica U19</td>\n",
       "    </tr>\n",
       "  </tbody>\n",
       "</table>\n",
       "</div>"
      ],
      "text/plain": [
       "          date      from_club  no_of_transfers playerId season         to_club\n",
       "0  Jul 1, 2017        Benfica                6   238223  17/18        Man City\n",
       "1  Jul 1, 2015      io Ave FC                6   238223  15/16         Benfica\n",
       "2  Jul 1, 2012  D Ribeir\\xe3o                6   238223  12/13      Rio Ave FC\n",
       "3  Jul 1, 2011     enfica U19                6   238223  11/12  GD Ribeir\\xe3o\n",
       "4  Jul 1, 2010     enfica U17                6   238223  10/11     Benfica U19"
      ]
     },
     "execution_count": 11,
     "metadata": {},
     "output_type": "execute_result"
    }
   ],
   "source": [
    "# Rules for the columns to clean data\n",
    "transfer_info_df_updated[\"date\"] = transfer_info_df_updated[\"date\"].apply(lambda x: str(x)[1:-1])\n",
    "transfer_info_df_updated[\"from_club\"] = transfer_info_df_updated[\"from_club\"].apply(lambda x: str(x)[5:-2])\n",
    "transfer_info_df_updated[\"season\"] = transfer_info_df_updated[\"season\"].apply(lambda x: str(x)[1:-1])\n",
    "transfer_info_df_updated[\"to_club\"] = transfer_info_df_updated[\"to_club\"].apply(lambda x: str(x)[3:-2])\n",
    "\n",
    "transfer_info_df_updated[\"date\"] = transfer_info_df_updated[\"date\"].apply(lambda x: str(x)[0:-1])\n",
    "\n",
    "# Keep only those records with non-missing transfer data\n",
    "transfer_info_df_updated = transfer_info_df_updated[transfer_info_df_updated[\"season\"] != \"\"]\n",
    "\n",
    "transfer_info_df_updated.head()"
   ]
  },
  {
   "cell_type": "code",
   "execution_count": null,
   "metadata": {},
   "outputs": [],
   "source": []
  },
  {
   "cell_type": "markdown",
   "metadata": {},
   "source": [
    "## Player's Injury Data Cleaning"
   ]
  },
  {
   "cell_type": "code",
   "execution_count": 12,
   "metadata": {},
   "outputs": [
    {
     "data": {
      "text/html": [
       "<div>\n",
       "<style scoped>\n",
       "    .dataframe tbody tr th:only-of-type {\n",
       "        vertical-align: middle;\n",
       "    }\n",
       "\n",
       "    .dataframe tbody tr th {\n",
       "        vertical-align: top;\n",
       "    }\n",
       "\n",
       "    .dataframe thead th {\n",
       "        text-align: right;\n",
       "    }\n",
       "</style>\n",
       "<table border=\"1\" class=\"dataframe\">\n",
       "  <thead>\n",
       "    <tr style=\"text-align: right;\">\n",
       "      <th></th>\n",
       "      <th>injury_info</th>\n",
       "      <th>injuries_count</th>\n",
       "      <th>playerId</th>\n",
       "      <th>club_value</th>\n",
       "      <th>player_age</th>\n",
       "      <th>club</th>\n",
       "    </tr>\n",
       "  </thead>\n",
       "  <tbody>\n",
       "    <tr>\n",
       "      <th>0</th>\n",
       "      <td>(u'16/17', u'Meniscal Injury', u'29')]),</td>\n",
       "      <td>1</td>\n",
       "      <td>238223</td>\n",
       "      <td>1,14 Bill.</td>\n",
       "      <td>27.0</td>\n",
       "      <td>Manchester City</td>\n",
       "    </tr>\n",
       "    <tr>\n",
       "      <th>1</th>\n",
       "      <td>(u'18/19', u'Achilles tendon rupture', u'314')...</td>\n",
       "      <td>7</td>\n",
       "      <td>40423</td>\n",
       "      <td>1,14 Bill.</td>\n",
       "      <td>37.0</td>\n",
       "      <td>Manchester City</td>\n",
       "    </tr>\n",
       "    <tr>\n",
       "      <th>2</th>\n",
       "      <td>]),</td>\n",
       "      <td>0</td>\n",
       "      <td>371021</td>\n",
       "      <td>1,14 Bill.</td>\n",
       "      <td>22.0</td>\n",
       "      <td>Manchester City</td>\n",
       "    </tr>\n",
       "    <tr>\n",
       "      <th>3</th>\n",
       "      <td>(u'18/19', u'Muscle Injury', u'6'), (u'17/18',...</td>\n",
       "      <td>6</td>\n",
       "      <td>186590</td>\n",
       "      <td>1,14 Bill.</td>\n",
       "      <td>26.0</td>\n",
       "      <td>Manchester City</td>\n",
       "    </tr>\n",
       "    <tr>\n",
       "      <th>4</th>\n",
       "      <td>(u'18/19', u'Muscle Injury', u'12'), (u'16/17'...</td>\n",
       "      <td>7</td>\n",
       "      <td>176553</td>\n",
       "      <td>1,14 Bill.</td>\n",
       "      <td>26.0</td>\n",
       "      <td>Manchester City</td>\n",
       "    </tr>\n",
       "  </tbody>\n",
       "</table>\n",
       "</div>"
      ],
      "text/plain": [
       "                                         injury_info  injuries_count playerId  \\\n",
       "0           (u'16/17', u'Meniscal Injury', u'29')]),               1   238223   \n",
       "1  (u'18/19', u'Achilles tendon rupture', u'314')...               7    40423   \n",
       "2                                                ]),               0   371021   \n",
       "3  (u'18/19', u'Muscle Injury', u'6'), (u'17/18',...               6   186590   \n",
       "4  (u'18/19', u'Muscle Injury', u'12'), (u'16/17'...               7   176553   \n",
       "\n",
       "   club_value  player_age             club  \n",
       "0  1,14 Bill.        27.0  Manchester City  \n",
       "1  1,14 Bill.        37.0  Manchester City  \n",
       "2  1,14 Bill.        22.0  Manchester City  \n",
       "3  1,14 Bill.        26.0  Manchester City  \n",
       "4  1,14 Bill.        26.0  Manchester City  "
      ]
     },
     "execution_count": 12,
     "metadata": {},
     "output_type": "execute_result"
    }
   ],
   "source": [
    "#Create dataframe of injuries data of each player\n",
    "injury_info_df = pd.DataFrame(injury_info, columns=[\"injury_info\"])\n",
    "\n",
    "# Calculate \"Count of injuries\" for a player\n",
    "injury_info_df[\"injuries_count\"] = injury_info_df[\"injury_info\"].apply(lambda x: str(x).count(\"(u\"))\n",
    "\n",
    "# Keeping columns from player_info dataset\n",
    "injury_info_df[\"playerId\"] = player_info_df[\"playerId\"]\n",
    "injury_info_df[\"club_value\"] = player_info_df[\"club_value\"]\n",
    "injury_info_df[\"player_age\"] = player_info_df[\"player_age\"]\n",
    "injury_info_df[\"club\"] = player_info_df[\"club\"]\n",
    "injury_info_df.head()"
   ]
  },
  {
   "cell_type": "code",
   "execution_count": 13,
   "metadata": {},
   "outputs": [],
   "source": [
    "# Code to create distinct rows for every injury of the player\n",
    "temp_df = pd.DataFrame()\n",
    "for row in range(injury_info_df.shape[0]):\n",
    "    for val in injury_info_df[\"injury_info\"].iloc[row].split(\", (\"):\n",
    "        #for item in range(len(injury_info_df[\"injury_info\"].iloc[row].split(\", (\"))):\n",
    "        temp_dict = {}\n",
    "        temp_dict[\"playerId\"] = injury_info_df[\"playerId\"].iloc[row]\n",
    "        temp_dict[\"injuries_count\"] = injury_info_df[\"injuries_count\"].iloc[row]\n",
    "        try:\n",
    "            temp_dict[\"season\"] = val.split(\", u\")[0]\n",
    "            #print(temp_dict)\n",
    "        except:\n",
    "            temp_dict[\"season\"] = ''\n",
    "        try:\n",
    "            temp_dict[\"injury_name\"] = val.split(\", u\")[1]\n",
    "            #print(temp_dict)\n",
    "        except:\n",
    "            temp_dict[\"injury_name\"] = ''\n",
    "        try:\n",
    "            temp_dict[\"recovery_time\"] = val.split(\", u\")[2]\n",
    "            #print(temp_dict)\n",
    "        except:\n",
    "            temp_dict[\"recovery_time\"] = ''\n",
    "        try:\n",
    "            temp_dict[\"club_value\"] = injury_info_df[\"club_value\"].iloc[row]\n",
    "            #print(temp_dict)\n",
    "        except:\n",
    "            temp_dict[\"club_value\"] = ''\n",
    "        try:\n",
    "            temp_dict[\"club\"] = injury_info_df[\"club\"].iloc[row]\n",
    "            #print(temp_dict)\n",
    "        except:\n",
    "            temp_dict[\"club\"] = ''\n",
    "        try:\n",
    "            temp_dict[\"player_age\"] = injury_info_df[\"player_age\"].iloc[row]\n",
    "            #print(temp_dict)\n",
    "        except:\n",
    "            temp_dict[\"player_age\"] = ''\n",
    "\n",
    "        temp_dict_df = pd.DataFrame([temp_dict])\n",
    "\n",
    "        frames = [temp_df, temp_dict_df]\n",
    "        temp_df = pd.concat([temp_df, temp_dict_df])\n",
    "            "
   ]
  },
  {
   "cell_type": "code",
   "execution_count": 14,
   "metadata": {},
   "outputs": [],
   "source": [
    "# Create a new dataset to store updated injury data\n",
    "injury_info_df_updated = temp_df\n",
    "\n",
    "# Reset index of the dataset\n",
    "injury_info_df_updated.reset_index(drop=True, inplace=True)"
   ]
  },
  {
   "cell_type": "code",
   "execution_count": 15,
   "metadata": {},
   "outputs": [
    {
     "data": {
      "text/html": [
       "<div>\n",
       "<style scoped>\n",
       "    .dataframe tbody tr th:only-of-type {\n",
       "        vertical-align: middle;\n",
       "    }\n",
       "\n",
       "    .dataframe tbody tr th {\n",
       "        vertical-align: top;\n",
       "    }\n",
       "\n",
       "    .dataframe thead th {\n",
       "        text-align: right;\n",
       "    }\n",
       "</style>\n",
       "<table border=\"1\" class=\"dataframe\">\n",
       "  <thead>\n",
       "    <tr style=\"text-align: right;\">\n",
       "      <th></th>\n",
       "      <th>club</th>\n",
       "      <th>club_value</th>\n",
       "      <th>injuries_count</th>\n",
       "      <th>injury_name</th>\n",
       "      <th>playerId</th>\n",
       "      <th>player_age</th>\n",
       "      <th>recovery_time</th>\n",
       "      <th>season</th>\n",
       "    </tr>\n",
       "  </thead>\n",
       "  <tbody>\n",
       "    <tr>\n",
       "      <th>0</th>\n",
       "      <td>Manchester City</td>\n",
       "      <td>1,14 Bill.</td>\n",
       "      <td>1</td>\n",
       "      <td>Meniscal Injury</td>\n",
       "      <td>238223</td>\n",
       "      <td>27.0</td>\n",
       "      <td>29.0</td>\n",
       "      <td>16/17</td>\n",
       "    </tr>\n",
       "    <tr>\n",
       "      <th>1</th>\n",
       "      <td>Manchester City</td>\n",
       "      <td>1,14 Bill.</td>\n",
       "      <td>7</td>\n",
       "      <td>Achilles tendon rupture</td>\n",
       "      <td>40423</td>\n",
       "      <td>37.0</td>\n",
       "      <td>314.0</td>\n",
       "      <td>18/19</td>\n",
       "    </tr>\n",
       "    <tr>\n",
       "      <th>2</th>\n",
       "      <td>Manchester City</td>\n",
       "      <td>1,14 Bill.</td>\n",
       "      <td>7</td>\n",
       "      <td>Disrupted Calf Muscle</td>\n",
       "      <td>40423</td>\n",
       "      <td>37.0</td>\n",
       "      <td>57.0</td>\n",
       "      <td>6/17</td>\n",
       "    </tr>\n",
       "    <tr>\n",
       "      <th>3</th>\n",
       "      <td>Manchester City</td>\n",
       "      <td>1,14 Bill.</td>\n",
       "      <td>7</td>\n",
       "      <td>Calf Injury</td>\n",
       "      <td>40423</td>\n",
       "      <td>37.0</td>\n",
       "      <td>17.0</td>\n",
       "      <td>5/16</td>\n",
       "    </tr>\n",
       "    <tr>\n",
       "      <th>4</th>\n",
       "      <td>Manchester City</td>\n",
       "      <td>1,14 Bill.</td>\n",
       "      <td>7</td>\n",
       "      <td>Torn muscle bundle</td>\n",
       "      <td>40423</td>\n",
       "      <td>37.0</td>\n",
       "      <td>24.0</td>\n",
       "      <td>5/16</td>\n",
       "    </tr>\n",
       "  </tbody>\n",
       "</table>\n",
       "</div>"
      ],
      "text/plain": [
       "              club  club_value  injuries_count              injury_name  \\\n",
       "0  Manchester City  1,14 Bill.               1          Meniscal Injury   \n",
       "1  Manchester City  1,14 Bill.               7  Achilles tendon rupture   \n",
       "2  Manchester City  1,14 Bill.               7    Disrupted Calf Muscle   \n",
       "3  Manchester City  1,14 Bill.               7              Calf Injury   \n",
       "4  Manchester City  1,14 Bill.               7       Torn muscle bundle   \n",
       "\n",
       "  playerId  player_age  recovery_time season  \n",
       "0   238223        27.0           29.0  16/17  \n",
       "1    40423        37.0          314.0  18/19  \n",
       "2    40423        37.0           57.0   6/17  \n",
       "3    40423        37.0           17.0   5/16  \n",
       "4    40423        37.0           24.0   5/16  "
      ]
     },
     "execution_count": 15,
     "metadata": {},
     "output_type": "execute_result"
    }
   ],
   "source": [
    "# Rules for the columns to clean data\n",
    "injury_info_df_updated[\"injury_name\"] = injury_info_df_updated[\"injury_name\"].apply(lambda x: str(x)[1:-1])\n",
    "injury_info_df_updated[\"recovery_time\"] = injury_info_df_updated[\"recovery_time\"].apply(lambda x: re.sub('\\D', '', str(x)))\n",
    "injury_info_df_updated[\"season\"] = injury_info_df_updated[\"season\"].apply(lambda x: str(x)[3:-1])\n",
    "\n",
    "injury_info_df_updated[\"recovery_time\"] = injury_info_df_updated[\"recovery_time\"].apply(lambda x: np.nan if x == \"\"\n",
    "                                                                                       else float(x))\n",
    "injury_info_df_updated = injury_info_df_updated[injury_info_df_updated[\"player_age\"] < 1900]\n",
    "\n",
    "# Keep only those records with non-missing injury data\n",
    "injury_info_df_updated = injury_info_df_updated[injury_info_df_updated[\"season\"] != \"\"]\n",
    "\n",
    "injury_info_df_updated.head()"
   ]
  },
  {
   "cell_type": "code",
   "execution_count": null,
   "metadata": {},
   "outputs": [],
   "source": []
  },
  {
   "cell_type": "markdown",
   "metadata": {},
   "source": [
    "# Answering questions"
   ]
  },
  {
   "cell_type": "markdown",
   "metadata": {},
   "source": [
    "### 1. Is the recovery time dependent on the club the player belongs to? If it's a rich/poor club there will be an incidence?"
   ]
  },
  {
   "cell_type": "code",
   "execution_count": 16,
   "metadata": {
    "scrolled": false
   },
   "outputs": [
    {
     "data": {
      "text/plain": [
       "Text(0, 0.5, 'Recovery Time')"
      ]
     },
     "execution_count": 16,
     "metadata": {},
     "output_type": "execute_result"
    },
    {
     "data": {
      "image/png": "[encoded data removed]",
      "text/plain": [
       "<Figure size 1440x432 with 2 Axes>"
      ]
     },
     "metadata": {
      "needs_background": "light"
     },
     "output_type": "display_data"
    }
   ],
   "source": [
    "# Club wise Median recovery time\n",
    "plt.figure(figsize=(20,6))\n",
    "plt.subplot(1,2,1)\n",
    "injury_info_df_updated.groupby([\"club\",\"club_value\"])[\"recovery_time\"].median().\\\n",
    "                        sort_values(ascending=False)[:10].plot(kind=\"bar\", color=\"teal\", alpha=.5)\n",
    "plt.xticks(rotation=30)\n",
    "plt.xlabel(\"Club and Club Value\")\n",
    "plt.ylabel(\"Recovery Time\")\n",
    "\n",
    "plt.subplot(1,2,2)\n",
    "injury_info_df_updated.groupby([\"club\",\"club_value\"])[\"recovery_time\"].median().\\\n",
    "                        sort_values(ascending=True)[:10].plot(kind=\"bar\", color=\"purple\", alpha=.5)\n",
    "plt.xticks(rotation=30)\n",
    "plt.xlabel(\"Club and Club Value\")\n",
    "plt.ylabel(\"Recovery Time\")"
   ]
  },
  {
   "cell_type": "code",
   "execution_count": null,
   "metadata": {},
   "outputs": [],
   "source": []
  },
  {
   "cell_type": "markdown",
   "metadata": {},
   "source": [
    "### 2. What are the 5 injuries that have the most recovery time ?"
   ]
  },
  {
   "cell_type": "code",
   "execution_count": 17,
   "metadata": {},
   "outputs": [
    {
     "data": {
      "text/plain": [
       "injury_name\n",
       "Compression of spinal        428.0\n",
       "Tibia and Fibula Fracture    249.0\n",
       "Patella rupture              245.0\n",
       "Tibia Fracture               201.0\n",
       "Achilles tendon rupture      199.0\n",
       "Name: recovery_time, dtype: float64"
      ]
     },
     "execution_count": 17,
     "metadata": {},
     "output_type": "execute_result"
    }
   ],
   "source": [
    "injury_info_df_updated.groupby([\"injury_name\"])[\"recovery_time\"].median().sort_values(ascending=False)[:5]"
   ]
  },
  {
   "cell_type": "code",
   "execution_count": 18,
   "metadata": {},
   "outputs": [
    {
     "data": {
      "text/plain": [
       "Text(0, 0.5, 'Recovery Time')"
      ]
     },
     "execution_count": 18,
     "metadata": {},
     "output_type": "execute_result"
    },
    {
     "data": {
      "image/png": "[encoded data removed]",
      "text/plain": [
       "<Figure size 720x360 with 1 Axes>"
      ]
     },
     "metadata": {
      "needs_background": "light"
     },
     "output_type": "display_data"
    }
   ],
   "source": [
    "# Visualization of results\n",
    "plt.figure(figsize=(10,5))\n",
    "injury_info_df_updated.groupby([\"injury_name\"])[\"recovery_time\"].\\\n",
    "    median().sort_values(ascending=False)[:5].\\\n",
    "    plot(kind=\"bar\", color=\"orange\")\n",
    "plt.xticks(rotation=30)\n",
    "plt.xlabel(\"Injury Name\")\n",
    "plt.ylabel(\"Recovery Time\")"
   ]
  },
  {
   "cell_type": "markdown",
   "metadata": {},
   "source": [
    "### 3. Analyse the recovery time from an injurie according to player's age."
   ]
  },
  {
   "cell_type": "code",
   "execution_count": 19,
   "metadata": {},
   "outputs": [
    {
     "data": {
      "text/plain": [
       "Text(0, 0.5, 'Recovery Time')"
      ]
     },
     "execution_count": 19,
     "metadata": {},
     "output_type": "execute_result"
    },
    {
     "data": {
      "image/png": "[encoded data removed]",
      "text/plain": [
       "<Figure size 864x360 with 1 Axes>"
      ]
     },
     "metadata": {
      "needs_background": "light"
     },
     "output_type": "display_data"
    }
   ],
   "source": [
    "# Visualization of Recovery_time wrt Player Age\n",
    "plt.figure(figsize=(12,5))\n",
    "injury_info_df_updated.groupby([\"player_age\"])[\"recovery_time\"].median().sort_values(ascending=False).plot(kind=\"bar\")\n",
    "plt.xticks(rotation=30)\n",
    "plt.xlabel(\"Player Age\")\n",
    "plt.ylabel(\"Recovery Time\")"
   ]
  },
  {
   "cell_type": "code",
   "execution_count": 20,
   "metadata": {},
   "outputs": [],
   "source": [
    "# Creating a separate dataframe for better analysis i.e. within an Age Group\n",
    "inj_df = pd.DataFrame(injury_info_df_updated.groupby([\"player_age\"])[\"recovery_time\"].median().sort_values(ascending=False)).reset_index()\n",
    "inj_df[\"age_group\"] = inj_df[\"player_age\"].apply(lambda x: \"<20\" if x<=20 else\n",
    "                                                            \"20-25\" if x>20 and x<=25 else\n",
    "                                                            \"26-30\" if x>26 and x<=30 else\n",
    "                                                            \"30-35\" if x>30 and x<=35 else\n",
    "                                                            \"35-40\" if x>35 and x<=40 else\n",
    "                                                            \">40\")"
   ]
  },
  {
   "cell_type": "code",
   "execution_count": 21,
   "metadata": {},
   "outputs": [
    {
     "data": {
      "text/plain": [
       "Text(0, 0.5, 'Recovery Time')"
      ]
     },
     "execution_count": 21,
     "metadata": {},
     "output_type": "execute_result"
    },
    {
     "data": {
      "image/png": "[encoded data removed]",
      "text/plain": [
       "<Figure size 720x360 with 1 Axes>"
      ]
     },
     "metadata": {
      "needs_background": "light"
     },
     "output_type": "display_data"
    }
   ],
   "source": [
    "# Visualization of results\n",
    "plt.figure(figsize=(10,5))\n",
    "inj_df.groupby([\"age_group\"])[\"recovery_time\"].median().sort_values(ascending=False).plot(kind=\"bar\", color=\"lime\")\n",
    "plt.xticks(rotation=30)\n",
    "plt.xlabel(\"Player Age Group\")\n",
    "plt.ylabel(\"Recovery Time\")"
   ]
  },
  {
   "cell_type": "markdown",
   "metadata": {},
   "source": [
    "# *Join all 3 different datasets to run NN on them"
   ]
  },
  {
   "cell_type": "code",
   "execution_count": 22,
   "metadata": {},
   "outputs": [],
   "source": [
    "# Drop duplicate entries from Injury and Transfer data and keep only latest record\n",
    "injury_info_df_updated_dedup = injury_info_df_updated.drop_duplicates(subset = ['playerId'], keep = 'first')\n",
    "transfer_info_df_updated_dedup = transfer_info_df_updated.drop_duplicates(subset = ['playerId'], keep = 'first')"
   ]
  },
  {
   "cell_type": "code",
   "execution_count": 23,
   "metadata": {},
   "outputs": [],
   "source": [
    "# Join all 3 datasets\n",
    "concatenated_df = player_info_df.merge(injury_info_df_updated_dedup, on='playerId').\\\n",
    "                                merge(transfer_info_df_updated_dedup,on='playerId')"
   ]
  },
  {
   "cell_type": "code",
   "execution_count": 24,
   "metadata": {},
   "outputs": [
    {
     "data": {
      "text/plain": [
       "Index(['playerId', 'name', 'club_x', 'club_value_x', 'birth', 'weight',\n",
       "       'height', 'country', 'role', 'foot', 'player_age_x', 'club_y',\n",
       "       'club_value_y', 'injuries_count', 'injury_name', 'player_age_y',\n",
       "       'recovery_time', 'season_x', 'date', 'from_club', 'no_of_transfers',\n",
       "       'season_y', 'to_club'],\n",
       "      dtype='object')"
      ]
     },
     "execution_count": 24,
     "metadata": {},
     "output_type": "execute_result"
    }
   ],
   "source": [
    "concatenated_df.columns"
   ]
  },
  {
   "cell_type": "code",
   "execution_count": 25,
   "metadata": {},
   "outputs": [],
   "source": [
    "# Dropping irrelevant columns which don't have any relevance for Model building\n",
    "concatenated_df.drop(['playerId', 'name', 'club_y', 'club_value_y', 'player_age_y', 'season_x', 'date', 'from_club', 'season_y', 'to_club'],\n",
    "                    axis=1, inplace=True)"
   ]
  },
  {
   "cell_type": "code",
   "execution_count": 26,
   "metadata": {},
   "outputs": [
    {
     "data": {
      "text/html": [
       "<div>\n",
       "<style scoped>\n",
       "    .dataframe tbody tr th:only-of-type {\n",
       "        vertical-align: middle;\n",
       "    }\n",
       "\n",
       "    .dataframe tbody tr th {\n",
       "        vertical-align: top;\n",
       "    }\n",
       "\n",
       "    .dataframe thead th {\n",
       "        text-align: right;\n",
       "    }\n",
       "</style>\n",
       "<table border=\"1\" class=\"dataframe\">\n",
       "  <thead>\n",
       "    <tr style=\"text-align: right;\">\n",
       "      <th></th>\n",
       "      <th>club_x</th>\n",
       "      <th>club_value_x</th>\n",
       "      <th>birth</th>\n",
       "      <th>weight</th>\n",
       "      <th>height</th>\n",
       "      <th>country</th>\n",
       "      <th>role</th>\n",
       "      <th>foot</th>\n",
       "      <th>player_age_x</th>\n",
       "      <th>injuries_count</th>\n",
       "      <th>injury_name</th>\n",
       "      <th>recovery_time</th>\n",
       "      <th>no_of_transfers</th>\n",
       "    </tr>\n",
       "  </thead>\n",
       "  <tbody>\n",
       "    <tr>\n",
       "      <th>0</th>\n",
       "      <td>Manchester City</td>\n",
       "      <td>1,14 Bill.</td>\n",
       "      <td>1993-08-17</td>\n",
       "      <td>89.0</td>\n",
       "      <td>188.0</td>\n",
       "      <td>Brazil</td>\n",
       "      <td>Goalkeeper</td>\n",
       "      <td>left</td>\n",
       "      <td>27.0</td>\n",
       "      <td>1</td>\n",
       "      <td>Meniscal Injury</td>\n",
       "      <td>29.0</td>\n",
       "      <td>6</td>\n",
       "    </tr>\n",
       "    <tr>\n",
       "      <th>1</th>\n",
       "      <td>Manchester City</td>\n",
       "      <td>1,14 Bill.</td>\n",
       "      <td>1983-04-13</td>\n",
       "      <td>84.0</td>\n",
       "      <td>184.0</td>\n",
       "      <td>Chile</td>\n",
       "      <td>Goalkeeper</td>\n",
       "      <td>right</td>\n",
       "      <td>37.0</td>\n",
       "      <td>7</td>\n",
       "      <td>Achilles tendon rupture</td>\n",
       "      <td>314.0</td>\n",
       "      <td>4</td>\n",
       "    </tr>\n",
       "    <tr>\n",
       "      <th>2</th>\n",
       "      <td>Manchester City</td>\n",
       "      <td>1,14 Bill.</td>\n",
       "      <td>1994-05-28</td>\n",
       "      <td>69.0</td>\n",
       "      <td>188.0</td>\n",
       "      <td>England</td>\n",
       "      <td>Defender - Centre-Back</td>\n",
       "      <td>right</td>\n",
       "      <td>26.0</td>\n",
       "      <td>6</td>\n",
       "      <td>Muscle Injury</td>\n",
       "      <td>6.0</td>\n",
       "      <td>3</td>\n",
       "    </tr>\n",
       "    <tr>\n",
       "      <th>3</th>\n",
       "      <td>Manchester City</td>\n",
       "      <td>1,14 Bill.</td>\n",
       "      <td>1994-05-27</td>\n",
       "      <td>85.0</td>\n",
       "      <td>191.0</td>\n",
       "      <td>France</td>\n",
       "      <td>Defender - Centre-Back</td>\n",
       "      <td>left</td>\n",
       "      <td>26.0</td>\n",
       "      <td>7</td>\n",
       "      <td>Muscle Injury</td>\n",
       "      <td>12.0</td>\n",
       "      <td>4</td>\n",
       "    </tr>\n",
       "    <tr>\n",
       "      <th>4</th>\n",
       "      <td>Manchester City</td>\n",
       "      <td>1,14 Bill.</td>\n",
       "      <td>1988-02-12</td>\n",
       "      <td>80.0</td>\n",
       "      <td>183.0</td>\n",
       "      <td>Argentina</td>\n",
       "      <td>Defender - Centre-Back</td>\n",
       "      <td>right</td>\n",
       "      <td>32.0</td>\n",
       "      <td>2</td>\n",
       "      <td>Ankle problems</td>\n",
       "      <td>7.0</td>\n",
       "      <td>7</td>\n",
       "    </tr>\n",
       "  </tbody>\n",
       "</table>\n",
       "</div>"
      ],
      "text/plain": [
       "            club_x club_value_x       birth  weight  height    country  \\\n",
       "0  Manchester City   1,14 Bill.  1993-08-17    89.0   188.0     Brazil   \n",
       "1  Manchester City   1,14 Bill.  1983-04-13    84.0   184.0      Chile   \n",
       "2  Manchester City   1,14 Bill.  1994-05-28    69.0   188.0    England   \n",
       "3  Manchester City   1,14 Bill.  1994-05-27    85.0   191.0     France   \n",
       "4  Manchester City   1,14 Bill.  1988-02-12    80.0   183.0  Argentina   \n",
       "\n",
       "                     role   foot  player_age_x  injuries_count  \\\n",
       "0              Goalkeeper   left          27.0               1   \n",
       "1              Goalkeeper  right          37.0               7   \n",
       "2  Defender - Centre-Back  right          26.0               6   \n",
       "3  Defender - Centre-Back   left          26.0               7   \n",
       "4  Defender - Centre-Back  right          32.0               2   \n",
       "\n",
       "               injury_name  recovery_time  no_of_transfers  \n",
       "0          Meniscal Injury           29.0                6  \n",
       "1  Achilles tendon rupture          314.0                4  \n",
       "2            Muscle Injury            6.0                3  \n",
       "3            Muscle Injury           12.0                4  \n",
       "4           Ankle problems            7.0                7  "
      ]
     },
     "execution_count": 26,
     "metadata": {},
     "output_type": "execute_result"
    }
   ],
   "source": [
    "concatenated_df.head()"
   ]
  },
  {
   "cell_type": "code",
   "execution_count": 27,
   "metadata": {},
   "outputs": [
    {
     "data": {
      "text/plain": [
       "club_x              object\n",
       "club_value_x        object\n",
       "birth               object\n",
       "weight             float64\n",
       "height             float64\n",
       "country             object\n",
       "role                object\n",
       "foot                object\n",
       "player_age_x       float64\n",
       "injuries_count       int64\n",
       "injury_name         object\n",
       "recovery_time      float64\n",
       "no_of_transfers      int64\n",
       "dtype: object"
      ]
     },
     "execution_count": 27,
     "metadata": {},
     "output_type": "execute_result"
    }
   ],
   "source": [
    "concatenated_df.dtypes"
   ]
  },
  {
   "cell_type": "markdown",
   "metadata": {},
   "source": [
    "### 4. Is there a correlation between number of transfer and number of injuries?"
   ]
  },
  {
   "cell_type": "code",
   "execution_count": 28,
   "metadata": {},
   "outputs": [
    {
     "data": {
      "image/png": "[encoded data removed]",
      "text/plain": [
       "<Figure size 432x432 with 2 Axes>"
      ]
     },
     "metadata": {
      "needs_background": "light"
     },
     "output_type": "display_data"
    }
   ],
   "source": [
    "plt.figure(figsize=(6,6))\n",
    "corr = concatenated_df[[\"no_of_transfers\", \"injuries_count\"]].corr()\n",
    "ax = sns.heatmap(\n",
    "    corr, \n",
    "    vmin=-1, vmax=1, center=0,\n",
    "    cmap=sns.diverging_palette(20, 220, n=200),\n",
    "    square=True\n",
    ")\n",
    "ax.set_xticklabels(\n",
    "    ax.get_xticklabels(),\n",
    "    rotation=45,\n",
    "    horizontalalignment='right'\n",
    ");"
   ]
  },
  {
   "cell_type": "markdown",
   "metadata": {},
   "source": [
    "### 5. Is there a correlation between number of transfer and recovery time ?"
   ]
  },
  {
   "cell_type": "code",
   "execution_count": 29,
   "metadata": {},
   "outputs": [
    {
     "data": {
      "image/png": "[encoded data removed]",
      "text/plain": [
       "<Figure size 432x432 with 2 Axes>"
      ]
     },
     "metadata": {
      "needs_background": "light"
     },
     "output_type": "display_data"
    }
   ],
   "source": [
    "plt.figure(figsize=(6,6))\n",
    "corr = concatenated_df[[\"no_of_transfers\", \"recovery_time\"]].corr()\n",
    "ax = sns.heatmap(\n",
    "    corr, \n",
    "    vmin=-1, vmax=1, center=0,\n",
    "    cmap=sns.diverging_palette(20, 220, n=200),\n",
    "    square=True\n",
    ")\n",
    "ax.set_xticklabels(\n",
    "    ax.get_xticklabels(),\n",
    "    rotation=45,\n",
    "    horizontalalignment='right'\n",
    ");"
   ]
  },
  {
   "cell_type": "markdown",
   "metadata": {},
   "source": [
    "### 6. Which is the club with maximum number of injuries ?"
   ]
  },
  {
   "cell_type": "code",
   "execution_count": 30,
   "metadata": {},
   "outputs": [
    {
     "data": {
      "text/plain": [
       "Text(0, 0.5, 'COunt of Injuries')"
      ]
     },
     "execution_count": 30,
     "metadata": {},
     "output_type": "execute_result"
    },
    {
     "data": {
      "image/png": "[encoded data removed]",
      "text/plain": [
       "<Figure size 720x360 with 1 Axes>"
      ]
     },
     "metadata": {
      "needs_background": "light"
     },
     "output_type": "display_data"
    }
   ],
   "source": [
    "plt.figure(figsize=(10,5))\n",
    "concatenated_df.groupby(\"club_x\")[\"injuries_count\"].count().sort_values()[:10].plot(kind=\"bar\", color=\"green\", alpha=0.5)\n",
    "plt.xticks(rotation=30)\n",
    "plt.xlabel(\"Club Name\")\n",
    "plt.ylabel(\"COunt of Injuries\")"
   ]
  },
  {
   "cell_type": "markdown",
   "metadata": {},
   "source": [
    "### 7. Which role has maximum injuries count ?"
   ]
  },
  {
   "cell_type": "code",
   "execution_count": 31,
   "metadata": {},
   "outputs": [
    {
     "data": {
      "text/plain": [
       "Text(0, 0.5, 'Count of Injuries')"
      ]
     },
     "execution_count": 31,
     "metadata": {},
     "output_type": "execute_result"
    },
    {
     "data": {
      "image/png": "[encoded data removed]",
      "text/plain": [
       "<Figure size 720x360 with 1 Axes>"
      ]
     },
     "metadata": {
      "needs_background": "light"
     },
     "output_type": "display_data"
    }
   ],
   "source": [
    "plt.figure(figsize=(10,5))\n",
    "concatenated_df.groupby(\"role\")[\"injuries_count\"].median().sort_values(ascending=False)[:5].\\\n",
    "                                        plot(kind=\"bar\", color=\"indigo\", alpha=0.5)\n",
    "plt.xticks(rotation=30)\n",
    "plt.xlabel(\"Role\")\n",
    "plt.ylabel(\"Count of Injuries\")"
   ]
  },
  {
   "cell_type": "markdown",
   "metadata": {},
   "source": [
    "# *Data preparation for model building"
   ]
  },
  {
   "cell_type": "markdown",
   "metadata": {},
   "source": [
    "### Label Encoding of categorical fields"
   ]
  },
  {
   "cell_type": "code",
   "execution_count": 32,
   "metadata": {},
   "outputs": [],
   "source": [
    "from sklearn.preprocessing import LabelEncoder\n",
    "le = LabelEncoder()"
   ]
  },
  {
   "cell_type": "code",
   "execution_count": 33,
   "metadata": {},
   "outputs": [],
   "source": [
    "cat_cols = ['club_x', 'club_value_x', 'country', 'role', 'foot', 'injury_name']\n",
    "\n",
    "for col in cat_cols:\n",
    "    concatenated_df[col] = le.fit_transform(concatenated_df[col])"
   ]
  },
  {
   "cell_type": "markdown",
   "metadata": {},
   "source": [
    "### Creating additional features from date field"
   ]
  },
  {
   "cell_type": "code",
   "execution_count": 34,
   "metadata": {},
   "outputs": [],
   "source": [
    "concatenated_df[\"birth_month\"] = concatenated_df[\"birth\"].str.split(\"-\", n=3, expand=True)[1]\n",
    "concatenated_df[\"birth_day\"] = concatenated_df[\"birth\"].str.split(\"-\", n=3, expand=True)[2]"
   ]
  },
  {
   "cell_type": "code",
   "execution_count": 35,
   "metadata": {},
   "outputs": [],
   "source": [
    "concatenated_df[\"birth_month\"] = concatenated_df[\"birth_month\"].apply(lambda x: np.nan if x==\"\" else float(x))\n",
    "concatenated_df[\"birth_day\"] = concatenated_df[\"birth_day\"].apply(lambda x: np.nan if x==\"\" else float(x))"
   ]
  },
  {
   "cell_type": "code",
   "execution_count": 36,
   "metadata": {},
   "outputs": [],
   "source": [
    "concatenated_df[\"weight\"] = concatenated_df[\"weight\"].fillna(concatenated_df[\"weight\"].median())"
   ]
  },
  {
   "cell_type": "code",
   "execution_count": 37,
   "metadata": {},
   "outputs": [
    {
     "data": {
      "text/html": [
       "<div>\n",
       "<style scoped>\n",
       "    .dataframe tbody tr th:only-of-type {\n",
       "        vertical-align: middle;\n",
       "    }\n",
       "\n",
       "    .dataframe tbody tr th {\n",
       "        vertical-align: top;\n",
       "    }\n",
       "\n",
       "    .dataframe thead th {\n",
       "        text-align: right;\n",
       "    }\n",
       "</style>\n",
       "<table border=\"1\" class=\"dataframe\">\n",
       "  <thead>\n",
       "    <tr style=\"text-align: right;\">\n",
       "      <th></th>\n",
       "      <th>club_x</th>\n",
       "      <th>club_value_x</th>\n",
       "      <th>birth</th>\n",
       "      <th>weight</th>\n",
       "      <th>height</th>\n",
       "      <th>country</th>\n",
       "      <th>role</th>\n",
       "      <th>foot</th>\n",
       "      <th>player_age_x</th>\n",
       "      <th>injuries_count</th>\n",
       "      <th>injury_name</th>\n",
       "      <th>recovery_time</th>\n",
       "      <th>no_of_transfers</th>\n",
       "      <th>birth_month</th>\n",
       "      <th>birth_day</th>\n",
       "    </tr>\n",
       "  </thead>\n",
       "  <tbody>\n",
       "    <tr>\n",
       "      <th>0</th>\n",
       "      <td>54</td>\n",
       "      <td>0</td>\n",
       "      <td>1993-08-17</td>\n",
       "      <td>89.0</td>\n",
       "      <td>188.0</td>\n",
       "      <td>10</td>\n",
       "      <td>7</td>\n",
       "      <td>11</td>\n",
       "      <td>27.0</td>\n",
       "      <td>1</td>\n",
       "      <td>109</td>\n",
       "      <td>29.0</td>\n",
       "      <td>6</td>\n",
       "      <td>8.0</td>\n",
       "      <td>17.0</td>\n",
       "    </tr>\n",
       "    <tr>\n",
       "      <th>1</th>\n",
       "      <td>54</td>\n",
       "      <td>0</td>\n",
       "      <td>1983-04-13</td>\n",
       "      <td>84.0</td>\n",
       "      <td>184.0</td>\n",
       "      <td>18</td>\n",
       "      <td>7</td>\n",
       "      <td>12</td>\n",
       "      <td>37.0</td>\n",
       "      <td>7</td>\n",
       "      <td>5</td>\n",
       "      <td>314.0</td>\n",
       "      <td>4</td>\n",
       "      <td>4.0</td>\n",
       "      <td>13.0</td>\n",
       "    </tr>\n",
       "    <tr>\n",
       "      <th>2</th>\n",
       "      <td>54</td>\n",
       "      <td>0</td>\n",
       "      <td>1994-05-28</td>\n",
       "      <td>69.0</td>\n",
       "      <td>188.0</td>\n",
       "      <td>31</td>\n",
       "      <td>0</td>\n",
       "      <td>12</td>\n",
       "      <td>26.0</td>\n",
       "      <td>6</td>\n",
       "      <td>116</td>\n",
       "      <td>6.0</td>\n",
       "      <td>3</td>\n",
       "      <td>5.0</td>\n",
       "      <td>28.0</td>\n",
       "    </tr>\n",
       "    <tr>\n",
       "      <th>3</th>\n",
       "      <td>54</td>\n",
       "      <td>0</td>\n",
       "      <td>1994-05-27</td>\n",
       "      <td>85.0</td>\n",
       "      <td>191.0</td>\n",
       "      <td>35</td>\n",
       "      <td>0</td>\n",
       "      <td>11</td>\n",
       "      <td>26.0</td>\n",
       "      <td>7</td>\n",
       "      <td>116</td>\n",
       "      <td>12.0</td>\n",
       "      <td>4</td>\n",
       "      <td>5.0</td>\n",
       "      <td>27.0</td>\n",
       "    </tr>\n",
       "    <tr>\n",
       "      <th>4</th>\n",
       "      <td>54</td>\n",
       "      <td>0</td>\n",
       "      <td>1988-02-12</td>\n",
       "      <td>80.0</td>\n",
       "      <td>183.0</td>\n",
       "      <td>3</td>\n",
       "      <td>0</td>\n",
       "      <td>12</td>\n",
       "      <td>32.0</td>\n",
       "      <td>2</td>\n",
       "      <td>12</td>\n",
       "      <td>7.0</td>\n",
       "      <td>7</td>\n",
       "      <td>2.0</td>\n",
       "      <td>12.0</td>\n",
       "    </tr>\n",
       "  </tbody>\n",
       "</table>\n",
       "</div>"
      ],
      "text/plain": [
       "   club_x  club_value_x       birth  weight  height  country  role  foot  \\\n",
       "0      54             0  1993-08-17    89.0   188.0       10     7    11   \n",
       "1      54             0  1983-04-13    84.0   184.0       18     7    12   \n",
       "2      54             0  1994-05-28    69.0   188.0       31     0    12   \n",
       "3      54             0  1994-05-27    85.0   191.0       35     0    11   \n",
       "4      54             0  1988-02-12    80.0   183.0        3     0    12   \n",
       "\n",
       "   player_age_x  injuries_count  injury_name  recovery_time  no_of_transfers  \\\n",
       "0          27.0               1          109           29.0                6   \n",
       "1          37.0               7            5          314.0                4   \n",
       "2          26.0               6          116            6.0                3   \n",
       "3          26.0               7          116           12.0                4   \n",
       "4          32.0               2           12            7.0                7   \n",
       "\n",
       "   birth_month  birth_day  \n",
       "0          8.0       17.0  \n",
       "1          4.0       13.0  \n",
       "2          5.0       28.0  \n",
       "3          5.0       27.0  \n",
       "4          2.0       12.0  "
      ]
     },
     "execution_count": 37,
     "metadata": {},
     "output_type": "execute_result"
    }
   ],
   "source": [
    "concatenated_df.head()"
   ]
  },
  {
   "cell_type": "markdown",
   "metadata": {},
   "source": [
    "## Import Neural-network libraries"
   ]
  },
  {
   "cell_type": "code",
   "execution_count": 38,
   "metadata": {},
   "outputs": [],
   "source": [
    "from tensorflow.python.keras.models import Sequential\n",
    "from tensorflow.python.keras.layers import Dense\n",
    "from tensorflow.python.keras.wrappers.scikit_learn import KerasRegressor\n",
    "from sklearn.metrics import mean_absolute_error\n",
    "from sklearn.metrics import mean_squared_error\n",
    "from sklearn.metrics import r2_score"
   ]
  },
  {
   "cell_type": "markdown",
   "metadata": {},
   "source": [
    "## Data Split in Train and Test sets"
   ]
  },
  {
   "cell_type": "markdown",
   "metadata": {},
   "source": [
    "### 8. Question: Predict Recovery time using Deep Learning"
   ]
  },
  {
   "cell_type": "markdown",
   "metadata": {},
   "source": [
    "### Datasets for Predicting Recovery_time "
   ]
  },
  {
   "cell_type": "code",
   "execution_count": 39,
   "metadata": {},
   "outputs": [
    {
     "name": "stdout",
     "output_type": "stream",
     "text": [
      "Model: \"sequential\"\n",
      "_________________________________________________________________\n",
      "Layer (type)                 Output Shape              Param #   \n",
      "=================================================================\n",
      "dense (Dense)                (None, 11)                154       \n",
      "_________________________________________________________________\n",
      "dense_1 (Dense)              (None, 2003)              24036     \n",
      "_________________________________________________________________\n",
      "dense_2 (Dense)              (None, 1)                 2004      \n",
      "=================================================================\n",
      "Total params: 26,194\n",
      "Trainable params: 26,194\n",
      "Non-trainable params: 0\n",
      "_________________________________________________________________\n",
      "Epoch 1/30\n",
      "9/9 [==============================] - 0s 51ms/step - mse: 6534.6133 - mae: 42.8819 - loss: 6534.6133 - val_mse: 4933.5781 - val_mae: 31.8979 - val_loss: 4933.5781\n",
      "Epoch 2/30\n",
      "9/9 [==============================] - 0s 9ms/step - mse: 5154.3477 - mae: 39.1643 - loss: 5154.3477 - val_mse: 4492.7256 - val_mae: 42.6473 - val_loss: 4492.7256\n",
      "Epoch 3/30\n",
      "9/9 [==============================] - 0s 11ms/step - mse: 4905.2148 - mae: 48.3954 - loss: 4905.2148 - val_mse: 4412.7671 - val_mae: 41.4920 - val_loss: 4412.7666\n",
      "Epoch 4/30\n",
      "9/9 [==============================] - 0s 10ms/step - mse: 4793.8379 - mae: 42.6440 - loss: 4793.8379 - val_mse: 4275.0420 - val_mae: 35.6792 - val_loss: 4275.0420\n",
      "Epoch 5/30\n",
      "9/9 [==============================] - 0s 10ms/step - mse: 4756.2915 - mae: 41.9818 - loss: 4756.2915 - val_mse: 4281.6206 - val_mae: 39.1099 - val_loss: 4281.6206\n",
      "Epoch 6/30\n",
      "9/9 [==============================] - 0s 9ms/step - mse: 4745.1909 - mae: 44.5239 - loss: 4745.1909 - val_mse: 4260.4478 - val_mae: 38.8037 - val_loss: 4260.4473\n",
      "Epoch 7/30\n",
      "9/9 [==============================] - 0s 9ms/step - mse: 4727.9829 - mae: 42.5809 - loss: 4727.9829 - val_mse: 4224.8018 - val_mae: 37.3288 - val_loss: 4224.8018\n",
      "Epoch 8/30\n",
      "9/9 [==============================] - 0s 10ms/step - mse: 4722.1401 - mae: 42.7659 - loss: 4722.1401 - val_mse: 4235.8252 - val_mae: 38.4862 - val_loss: 4235.8252\n",
      "Epoch 9/30\n",
      "9/9 [==============================] - 0s 10ms/step - mse: 4718.0532 - mae: 42.9947 - loss: 4718.0532 - val_mse: 4216.9111 - val_mae: 37.7735 - val_loss: 4216.9111\n",
      "Epoch 10/30\n",
      "9/9 [==============================] - 0s 9ms/step - mse: 4719.7437 - mae: 43.5383 - loss: 4719.7437 - val_mse: 4234.3877 - val_mae: 38.6058 - val_loss: 4234.3877\n",
      "Epoch 11/30\n",
      "9/9 [==============================] - 0s 12ms/step - mse: 4715.1514 - mae: 42.5559 - loss: 4715.1514 - val_mse: 4204.2197 - val_mae: 37.1735 - val_loss: 4204.2197\n",
      "Epoch 12/30\n",
      "9/9 [==============================] - 0s 16ms/step - mse: 4709.9863 - mae: 42.5834 - loss: 4709.9863 - val_mse: 4210.8057 - val_mae: 37.8032 - val_loss: 4210.8057\n",
      "Epoch 13/30\n",
      "9/9 [==============================] - 0s 18ms/step - mse: 4711.4653 - mae: 42.2721 - loss: 4711.4653 - val_mse: 4211.7969 - val_mae: 37.7553 - val_loss: 4211.7969\n",
      "Epoch 14/30\n",
      "9/9 [==============================] - 0s 17ms/step - mse: 4707.9351 - mae: 43.8634 - loss: 4707.9355 - val_mse: 4236.1240 - val_mae: 38.9945 - val_loss: 4236.1235\n",
      "Epoch 15/30\n",
      "9/9 [==============================] - 0s 17ms/step - mse: 4715.9399 - mae: 42.5664 - loss: 4715.9399 - val_mse: 4194.2832 - val_mae: 36.4856 - val_loss: 4194.2832\n",
      "Epoch 16/30\n",
      "9/9 [==============================] - 0s 17ms/step - mse: 4702.4214 - mae: 43.4146 - loss: 4702.4214 - val_mse: 4237.5024 - val_mae: 39.0333 - val_loss: 4237.5024\n",
      "Epoch 17/30\n",
      "9/9 [==============================] - 0s 16ms/step - mse: 4696.8804 - mae: 43.0379 - loss: 4696.8804 - val_mse: 4196.4365 - val_mae: 37.1137 - val_loss: 4196.4365\n",
      "Epoch 18/30\n",
      "9/9 [==============================] - 0s 16ms/step - mse: 4696.6025 - mae: 42.3010 - loss: 4696.6025 - val_mse: 4217.3286 - val_mae: 38.1506 - val_loss: 4217.3286\n",
      "Epoch 19/30\n",
      "9/9 [==============================] - 0s 16ms/step - mse: 4694.1406 - mae: 43.1365 - loss: 4694.1406 - val_mse: 4199.5317 - val_mae: 37.2949 - val_loss: 4199.5317\n",
      "Epoch 20/30\n",
      "9/9 [==============================] - 0s 17ms/step - mse: 4688.0942 - mae: 43.1432 - loss: 4688.0947 - val_mse: 4215.0747 - val_mae: 38.1695 - val_loss: 4215.0747\n",
      "Epoch 21/30\n",
      "9/9 [==============================] - 0s 16ms/step - mse: 4681.7061 - mae: 43.2135 - loss: 4681.7061 - val_mse: 4196.9873 - val_mae: 37.0517 - val_loss: 4196.9873\n",
      "Epoch 22/30\n",
      "9/9 [==============================] - 0s 17ms/step - mse: 4684.7456 - mae: 41.8020 - loss: 4684.7456 - val_mse: 4195.4058 - val_mae: 36.7636 - val_loss: 4195.4058\n",
      "Epoch 23/30\n",
      "9/9 [==============================] - 0s 16ms/step - mse: 4669.4971 - mae: 42.4679 - loss: 4669.4971 - val_mse: 4235.8252 - val_mae: 38.9641 - val_loss: 4235.8252\n",
      "Epoch 24/30\n",
      "9/9 [==============================] - 0s 18ms/step - mse: 4693.3540 - mae: 44.7104 - loss: 4693.3540 - val_mse: 4196.3013 - val_mae: 37.0316 - val_loss: 4196.3013\n",
      "Epoch 25/30\n",
      "9/9 [==============================] - 0s 16ms/step - mse: 4688.2310 - mae: 41.4657 - loss: 4688.2310 - val_mse: 4203.5679 - val_mae: 37.4721 - val_loss: 4203.5679\n",
      "Epoch 26/30\n",
      "9/9 [==============================] - 0s 17ms/step - mse: 4662.7891 - mae: 42.8416 - loss: 4662.7891 - val_mse: 4220.9785 - val_mae: 38.4315 - val_loss: 4220.9785\n",
      "Epoch 27/30\n",
      "9/9 [==============================] - 0s 16ms/step - mse: 4665.1719 - mae: 43.3284 - loss: 4665.1719 - val_mse: 4204.6196 - val_mae: 37.4695 - val_loss: 4204.6196\n",
      "Epoch 28/30\n",
      "9/9 [==============================] - 0s 16ms/step - mse: 4666.9326 - mae: 42.0541 - loss: 4666.9326 - val_mse: 4224.1611 - val_mae: 38.6039 - val_loss: 4224.1611\n",
      "Epoch 29/30\n",
      "9/9 [==============================] - 0s 16ms/step - mse: 4657.5459 - mae: 43.9979 - loss: 4657.5459 - val_mse: 4202.4639 - val_mae: 37.3649 - val_loss: 4202.4639\n",
      "Epoch 30/30\n",
      "9/9 [==============================] - 0s 16ms/step - mse: 4652.6235 - mae: 41.4688 - loss: 4652.6235 - val_mse: 4196.0181 - val_mae: 36.7188 - val_loss: 4196.0181\n",
      "dict_keys(['val_mse', 'val_mae', 'val_loss', 'mae', 'mse', 'loss'])\n"
     ]
    },
    {
     "data": {
      "image/png": "[encoded data removed]",
      "text/plain": [
       "<Figure size 432x288 with 1 Axes>"
      ]
     },
     "metadata": {
      "needs_background": "light"
     },
     "output_type": "display_data"
    },
    {
     "data": {
      "text/plain": [
       "43.67286965229321"
      ]
     },
     "execution_count": 39,
     "metadata": {},
     "output_type": "execute_result"
    }
   ],
   "source": [
    "x = concatenated_df.drop([\"recovery_time\", \"birth\"], axis=1)\n",
    "y = concatenated_df[\"recovery_time\"]\n",
    "\n",
    "# Splitting the dataset into the Training set and Test set\n",
    "from sklearn.model_selection import train_test_split\n",
    "X_train, X_test, y_train, y_test = train_test_split(x, y, test_size = 0.2, random_state = 100)\n",
    "\n",
    "# Restting the index of datasets\n",
    "X_train.reset_index(drop=True, inplace=True)\n",
    "X_test.reset_index(drop=True, inplace=True)\n",
    "y_train.reset_index(drop=True, inplace=True)\n",
    "y_test.reset_index(drop=True, inplace=True)\n",
    "\n",
    "model = Sequential()\n",
    "model.add(Dense(11, input_dim=13, kernel_initializer='normal', activation='relu'))\n",
    "model.add(Dense(2003, activation='relu'))\n",
    "model.add(Dense(1, activation='linear'))\n",
    "model.summary()\n",
    "\n",
    "model.compile(loss='mse', optimizer='adam', metrics=['mse','mae'])\n",
    "\n",
    "history = model.fit(X_train, y_train, epochs=30, batch_size=150,  verbose=1, validation_split=0.2)\n",
    "\n",
    "print(history.history.keys())\n",
    "# \"Loss\"\n",
    "plt.plot(history.history['loss'])\n",
    "plt.plot(history.history['val_loss'])\n",
    "plt.title('model loss')\n",
    "plt.ylabel('loss')\n",
    "plt.xlabel('epoch')\n",
    "plt.legend(['train', 'validation'], loc='upper left')\n",
    "plt.show()\n",
    "\n",
    "# Predict recovery time for test data\n",
    "predicted_recovery_time = model.predict(X_test)\n",
    "\n",
    "# Calculating Mean absolute error in prediction and test data\n",
    "mean_absolute_error(y_test, predicted_recovery_time)"
   ]
  },
  {
   "cell_type": "markdown",
   "metadata": {},
   "source": [
    "### Section: 8.1 Prediction of \"Recovery Time\" for a player for Club \"Athletic Bilbao\""
   ]
  },
  {
   "cell_type": "code",
   "execution_count": 40,
   "metadata": {},
   "outputs": [],
   "source": [
    "# Testing on data with \"Athletic Bilbao\" club\n",
    "Athletic_Bilbao_data = concatenated_df.iloc[1812:1813].drop([\"recovery_time\", \"birth\"], axis=1)"
   ]
  },
  {
   "cell_type": "code",
   "execution_count": 41,
   "metadata": {},
   "outputs": [
    {
     "data": {
      "text/html": [
       "<div>\n",
       "<style scoped>\n",
       "    .dataframe tbody tr th:only-of-type {\n",
       "        vertical-align: middle;\n",
       "    }\n",
       "\n",
       "    .dataframe tbody tr th {\n",
       "        vertical-align: top;\n",
       "    }\n",
       "\n",
       "    .dataframe thead th {\n",
       "        text-align: right;\n",
       "    }\n",
       "</style>\n",
       "<table border=\"1\" class=\"dataframe\">\n",
       "  <thead>\n",
       "    <tr style=\"text-align: right;\">\n",
       "      <th></th>\n",
       "      <th>club_x</th>\n",
       "      <th>club_value_x</th>\n",
       "      <th>weight</th>\n",
       "      <th>height</th>\n",
       "      <th>country</th>\n",
       "      <th>role</th>\n",
       "      <th>foot</th>\n",
       "      <th>player_age_x</th>\n",
       "      <th>injuries_count</th>\n",
       "      <th>injury_name</th>\n",
       "      <th>no_of_transfers</th>\n",
       "      <th>birth_month</th>\n",
       "      <th>birth_day</th>\n",
       "    </tr>\n",
       "  </thead>\n",
       "  <tbody>\n",
       "    <tr>\n",
       "      <th>1812</th>\n",
       "      <td>10</td>\n",
       "      <td>28</td>\n",
       "      <td>90.0</td>\n",
       "      <td>187.0</td>\n",
       "      <td>88</td>\n",
       "      <td>7</td>\n",
       "      <td>12</td>\n",
       "      <td>32.0</td>\n",
       "      <td>2</td>\n",
       "      <td>116</td>\n",
       "      <td>9</td>\n",
       "      <td>1.0</td>\n",
       "      <td>25.0</td>\n",
       "    </tr>\n",
       "  </tbody>\n",
       "</table>\n",
       "</div>"
      ],
      "text/plain": [
       "      club_x  club_value_x  weight  height  country  role  foot  player_age_x  \\\n",
       "1812      10            28    90.0   187.0       88     7    12          32.0   \n",
       "\n",
       "      injuries_count  injury_name  no_of_transfers  birth_month  birth_day  \n",
       "1812               2          116                9          1.0       25.0  "
      ]
     },
     "execution_count": 41,
     "metadata": {},
     "output_type": "execute_result"
    }
   ],
   "source": [
    "Athletic_Bilbao_data"
   ]
  },
  {
   "cell_type": "markdown",
   "metadata": {},
   "source": [
    "#### Note: \"Athletic Bilbao\" club has \"club_x\" value of \"10\" after label encoding"
   ]
  },
  {
   "cell_type": "code",
   "execution_count": 42,
   "metadata": {},
   "outputs": [
    {
     "data": {
      "text/plain": [
       "array([[38.654842]], dtype=float32)"
      ]
     },
     "execution_count": 42,
     "metadata": {},
     "output_type": "execute_result"
    }
   ],
   "source": [
    "model.predict(Athletic_Bilbao_data.values)"
   ]
  },
  {
   "cell_type": "markdown",
   "metadata": {},
   "source": [
    "#### 38.6 (or 39 roundoff) is the number of days for a player to recover for Athletic Bilbao club for a player whose data is mentioned above"
   ]
  },
  {
   "cell_type": "code",
   "execution_count": null,
   "metadata": {},
   "outputs": [],
   "source": []
  },
  {
   "cell_type": "markdown",
   "metadata": {},
   "source": [
    "### 9. Question: Predict Number of Injuries for a player"
   ]
  },
  {
   "cell_type": "code",
   "execution_count": 43,
   "metadata": {
    "scrolled": true
   },
   "outputs": [
    {
     "name": "stdout",
     "output_type": "stream",
     "text": [
      "Model: \"sequential_1\"\n",
      "_________________________________________________________________\n",
      "Layer (type)                 Output Shape              Param #   \n",
      "=================================================================\n",
      "dense_3 (Dense)              (None, 11)                154       \n",
      "_________________________________________________________________\n",
      "dense_4 (Dense)              (None, 2003)              24036     \n",
      "_________________________________________________________________\n",
      "dense_5 (Dense)              (None, 1)                 2004      \n",
      "=================================================================\n",
      "Total params: 26,194\n",
      "Trainable params: 26,194\n",
      "Non-trainable params: 0\n",
      "_________________________________________________________________\n",
      "Epoch 1/30\n",
      "9/9 [==============================] - 0s 40ms/step - mse: 27.0218 - mae: 4.2129 - loss: 27.0218 - val_mse: 29.6140 - val_mae: 4.1710 - val_loss: 29.6140\n",
      "Epoch 2/30\n",
      "9/9 [==============================] - 0s 14ms/step - mse: 21.6727 - mae: 3.7549 - loss: 21.6727 - val_mse: 22.1905 - val_mae: 4.0560 - val_loss: 22.1905\n",
      "Epoch 3/30\n",
      "9/9 [==============================] - 0s 15ms/step - mse: 20.3191 - mae: 3.7053 - loss: 20.3191 - val_mse: 23.5882 - val_mae: 3.9238 - val_loss: 23.5882\n",
      "Epoch 4/30\n",
      "9/9 [==============================] - 0s 17ms/step - mse: 20.0420 - mae: 3.7594 - loss: 20.0420 - val_mse: 23.3026 - val_mae: 3.9079 - val_loss: 23.3026\n",
      "Epoch 5/30\n",
      "9/9 [==============================] - 0s 16ms/step - mse: 19.9406 - mae: 3.6078 - loss: 19.9406 - val_mse: 21.7892 - val_mae: 3.9464 - val_loss: 21.7892\n",
      "Epoch 6/30\n",
      "9/9 [==============================] - 0s 15ms/step - mse: 19.7074 - mae: 3.6840 - loss: 19.7074 - val_mse: 22.8028 - val_mae: 3.8747 - val_loss: 22.8028\n",
      "Epoch 7/30\n",
      "9/9 [==============================] - 0s 16ms/step - mse: 19.4139 - mae: 3.6954 - loss: 19.4139 - val_mse: 22.5682 - val_mae: 3.8602 - val_loss: 22.5682\n",
      "Epoch 8/30\n",
      "9/9 [==============================] - 0s 16ms/step - mse: 19.3447 - mae: 3.6071 - loss: 19.3447 - val_mse: 22.0483 - val_mae: 3.9021 - val_loss: 22.0483\n",
      "Epoch 9/30\n",
      "9/9 [==============================] - 0s 16ms/step - mse: 19.2205 - mae: 3.6451 - loss: 19.2205 - val_mse: 22.5133 - val_mae: 3.8613 - val_loss: 22.5133\n",
      "Epoch 10/30\n",
      "9/9 [==============================] - 0s 17ms/step - mse: 19.0305 - mae: 3.6217 - loss: 19.0305 - val_mse: 21.6264 - val_mae: 3.8679 - val_loss: 21.6264\n",
      "Epoch 11/30\n",
      "9/9 [==============================] - 0s 15ms/step - mse: 19.0798 - mae: 3.6081 - loss: 19.0798 - val_mse: 21.7715 - val_mae: 3.8494 - val_loss: 21.7715\n",
      "Epoch 12/30\n",
      "9/9 [==============================] - 0s 16ms/step - mse: 18.9989 - mae: 3.5943 - loss: 18.9989 - val_mse: 21.5150 - val_mae: 3.8651 - val_loss: 21.5150\n",
      "Epoch 13/30\n",
      "9/9 [==============================] - 0s 16ms/step - mse: 19.1434 - mae: 3.6033 - loss: 19.1434 - val_mse: 21.9894 - val_mae: 3.8437 - val_loss: 21.9894\n",
      "Epoch 14/30\n",
      "9/9 [==============================] - 0s 16ms/step - mse: 18.9262 - mae: 3.6156 - loss: 18.9262 - val_mse: 23.8431 - val_mae: 3.8576 - val_loss: 23.8431\n",
      "Epoch 15/30\n",
      "9/9 [==============================] - 0s 16ms/step - mse: 18.9090 - mae: 3.6080 - loss: 18.9090 - val_mse: 22.1363 - val_mae: 3.8199 - val_loss: 22.1363\n",
      "Epoch 16/30\n",
      "9/9 [==============================] - 0s 16ms/step - mse: 18.6865 - mae: 3.5416 - loss: 18.6865 - val_mse: 21.5022 - val_mae: 3.8216 - val_loss: 21.5022\n",
      "Epoch 17/30\n",
      "9/9 [==============================] - 0s 15ms/step - mse: 18.6268 - mae: 3.5645 - loss: 18.6268 - val_mse: 21.2594 - val_mae: 3.8058 - val_loss: 21.2594\n",
      "Epoch 18/30\n",
      "9/9 [==============================] - 0s 16ms/step - mse: 18.4223 - mae: 3.5552 - loss: 18.4223 - val_mse: 22.2411 - val_mae: 3.7881 - val_loss: 22.2411\n",
      "Epoch 19/30\n",
      "9/9 [==============================] - 0s 15ms/step - mse: 18.4232 - mae: 3.5413 - loss: 18.4232 - val_mse: 21.2157 - val_mae: 3.8245 - val_loss: 21.2157\n",
      "Epoch 20/30\n",
      "9/9 [==============================] - 0s 16ms/step - mse: 18.2573 - mae: 3.5103 - loss: 18.2573 - val_mse: 21.4616 - val_mae: 3.7616 - val_loss: 21.4616\n",
      "Epoch 21/30\n",
      "9/9 [==============================] - 0s 16ms/step - mse: 18.3002 - mae: 3.5539 - loss: 18.3002 - val_mse: 22.5842 - val_mae: 3.7744 - val_loss: 22.5842\n",
      "Epoch 22/30\n",
      "9/9 [==============================] - 0s 16ms/step - mse: 18.2318 - mae: 3.4943 - loss: 18.2319 - val_mse: 20.9812 - val_mae: 3.7565 - val_loss: 20.9812\n",
      "Epoch 23/30\n",
      "9/9 [==============================] - 0s 16ms/step - mse: 18.0879 - mae: 3.4967 - loss: 18.0879 - val_mse: 20.5899 - val_mae: 3.7676 - val_loss: 20.5899\n",
      "Epoch 24/30\n",
      "9/9 [==============================] - 0s 16ms/step - mse: 18.4957 - mae: 3.5875 - loss: 18.4957 - val_mse: 21.2172 - val_mae: 3.7323 - val_loss: 21.2172\n",
      "Epoch 25/30\n",
      "9/9 [==============================] - 0s 16ms/step - mse: 18.0706 - mae: 3.4705 - loss: 18.0706 - val_mse: 20.4414 - val_mae: 3.7683 - val_loss: 20.4414\n",
      "Epoch 26/30\n",
      "9/9 [==============================] - 0s 16ms/step - mse: 18.2564 - mae: 3.5242 - loss: 18.2564 - val_mse: 20.6105 - val_mae: 3.6961 - val_loss: 20.6105\n",
      "Epoch 27/30\n",
      "9/9 [==============================] - 0s 16ms/step - mse: 18.1590 - mae: 3.4960 - loss: 18.1590 - val_mse: 21.5710 - val_mae: 3.6869 - val_loss: 21.5710\n",
      "Epoch 28/30\n",
      "9/9 [==============================] - 0s 16ms/step - mse: 18.1574 - mae: 3.4825 - loss: 18.1574 - val_mse: 20.6321 - val_mae: 3.7325 - val_loss: 20.6321\n",
      "Epoch 29/30\n",
      "9/9 [==============================] - 0s 16ms/step - mse: 18.1969 - mae: 3.4993 - loss: 18.1969 - val_mse: 20.3104 - val_mae: 3.7081 - val_loss: 20.3104\n",
      "Epoch 30/30\n",
      "9/9 [==============================] - 0s 16ms/step - mse: 18.0655 - mae: 3.4753 - loss: 18.0655 - val_mse: 19.9125 - val_mae: 3.7357 - val_loss: 19.9125\n",
      "dict_keys(['val_mse', 'val_mae', 'val_loss', 'mae', 'mse', 'loss'])\n"
     ]
    },
    {
     "data": {
      "image/png": "[encoded data removed]",
      "text/plain": [
       "<Figure size 432x288 with 1 Axes>"
      ]
     },
     "metadata": {
      "needs_background": "light"
     },
     "output_type": "display_data"
    },
    {
     "data": {
      "text/plain": [
       "3.7511215896929726"
      ]
     },
     "execution_count": 43,
     "metadata": {},
     "output_type": "execute_result"
    }
   ],
   "source": [
    "# Separating x and y for number of injuries\n",
    "x = concatenated_df.drop([\"injuries_count\", \"birth\"], axis=1)\n",
    "y = concatenated_df[\"injuries_count\"]\n",
    "\n",
    "# Splitting the dataset into the Training set and Test set\n",
    "from sklearn.model_selection import train_test_split\n",
    "X_train, X_test, y_train, y_test = train_test_split(x, y, test_size = 0.2, random_state = 100)\n",
    "\n",
    "# Resetting index of the datasets\n",
    "X_train.reset_index(drop=True, inplace=True)\n",
    "X_test.reset_index(drop=True, inplace=True)\n",
    "y_train.reset_index(drop=True, inplace=True)\n",
    "y_test.reset_index(drop=True, inplace=True)\n",
    "\n",
    "# Creating model\n",
    "model = Sequential()\n",
    "model.add(Dense(11, input_dim=13, kernel_initializer='normal', activation='relu'))\n",
    "model.add(Dense(2003, activation='relu'))\n",
    "model.add(Dense(1, activation='linear'))\n",
    "model.summary()\n",
    "\n",
    "model.compile(loss='mse', optimizer='adam', metrics=['mse','mae'])\n",
    "\n",
    "history = model.fit(X_train, y_train, epochs=30, batch_size=150,  verbose=1, validation_split=0.2)\n",
    "\n",
    "# Printing loss values\n",
    "print(history.history.keys())\n",
    "# \"Loss\"\n",
    "plt.plot(history.history['loss'])\n",
    "plt.plot(history.history['val_loss'])\n",
    "plt.title('model loss')\n",
    "plt.ylabel('loss')\n",
    "plt.xlabel('epoch')\n",
    "plt.legend(['train', 'validation'], loc='upper left')\n",
    "plt.show()\n",
    "\n",
    "# Getting prediction of injuries\n",
    "predicted_injuries_count = model.predict(X_test)\n",
    "\n",
    "mean_absolute_error(y_test, predicted_injuries_count)\n"
   ]
  },
  {
   "cell_type": "markdown",
   "metadata": {},
   "source": [
    "### Section: 9.1 Prediction of \"Number of Injuries\" for a player for Club \"Athletic Bilbao\""
   ]
  },
  {
   "cell_type": "code",
   "execution_count": 44,
   "metadata": {},
   "outputs": [],
   "source": [
    "# Testing on data with \"Athletic Bilbao\" club\n",
    "Athletic_Bilbao_inj_data = concatenated_df.iloc[1812:1813].drop([\"injuries_count\", \"birth\"], axis=1)"
   ]
  },
  {
   "cell_type": "code",
   "execution_count": 45,
   "metadata": {},
   "outputs": [
    {
     "data": {
      "text/html": [
       "<div>\n",
       "<style scoped>\n",
       "    .dataframe tbody tr th:only-of-type {\n",
       "        vertical-align: middle;\n",
       "    }\n",
       "\n",
       "    .dataframe tbody tr th {\n",
       "        vertical-align: top;\n",
       "    }\n",
       "\n",
       "    .dataframe thead th {\n",
       "        text-align: right;\n",
       "    }\n",
       "</style>\n",
       "<table border=\"1\" class=\"dataframe\">\n",
       "  <thead>\n",
       "    <tr style=\"text-align: right;\">\n",
       "      <th></th>\n",
       "      <th>club_x</th>\n",
       "      <th>club_value_x</th>\n",
       "      <th>weight</th>\n",
       "      <th>height</th>\n",
       "      <th>country</th>\n",
       "      <th>role</th>\n",
       "      <th>foot</th>\n",
       "      <th>player_age_x</th>\n",
       "      <th>injury_name</th>\n",
       "      <th>recovery_time</th>\n",
       "      <th>no_of_transfers</th>\n",
       "      <th>birth_month</th>\n",
       "      <th>birth_day</th>\n",
       "    </tr>\n",
       "  </thead>\n",
       "  <tbody>\n",
       "    <tr>\n",
       "      <th>1812</th>\n",
       "      <td>10</td>\n",
       "      <td>28</td>\n",
       "      <td>90.0</td>\n",
       "      <td>187.0</td>\n",
       "      <td>88</td>\n",
       "      <td>7</td>\n",
       "      <td>12</td>\n",
       "      <td>32.0</td>\n",
       "      <td>116</td>\n",
       "      <td>56.0</td>\n",
       "      <td>9</td>\n",
       "      <td>1.0</td>\n",
       "      <td>25.0</td>\n",
       "    </tr>\n",
       "  </tbody>\n",
       "</table>\n",
       "</div>"
      ],
      "text/plain": [
       "      club_x  club_value_x  weight  height  country  role  foot  player_age_x  \\\n",
       "1812      10            28    90.0   187.0       88     7    12          32.0   \n",
       "\n",
       "      injury_name  recovery_time  no_of_transfers  birth_month  birth_day  \n",
       "1812          116           56.0                9          1.0       25.0  "
      ]
     },
     "execution_count": 45,
     "metadata": {},
     "output_type": "execute_result"
    }
   ],
   "source": [
    "Athletic_Bilbao_inj_data"
   ]
  },
  {
   "cell_type": "markdown",
   "metadata": {},
   "source": [
    "#### Note: \"Athletic Bilbao\" club has \"club_x\" value of \"10\" after label encoding"
   ]
  },
  {
   "cell_type": "code",
   "execution_count": 46,
   "metadata": {},
   "outputs": [
    {
     "data": {
      "text/plain": [
       "array([[7.1353736]], dtype=float32)"
      ]
     },
     "execution_count": 46,
     "metadata": {},
     "output_type": "execute_result"
    }
   ],
   "source": [
    "model.predict(Athletic_Bilbao_inj_data.values)"
   ]
  },
  {
   "cell_type": "markdown",
   "metadata": {},
   "source": [
    "#### 7.1 (or 7 roundoff) is the number of injuries a player can have for Athletic Bilbao club for a player whose data is mentioned above"
   ]
  },
  {
   "cell_type": "code",
   "execution_count": null,
   "metadata": {},
   "outputs": [],
   "source": []
  }
 ],
 "metadata": {
  "kernelspec": {
   "display_name": "Python 3",
   "language": "python",
   "name": "python3"
  },
  "language_info": {
   "codemirror_mode": {
    "name": "ipython",
    "version": 3
   },
   "file_extension": ".py",
   "mimetype": "text/x-python",
   "name": "python",
   "nbconvert_exporter": "python",
   "pygments_lexer": "ipython3",
   "version": "3.5.4"
  }
 },
 "nbformat": 4,
 "nbformat_minor": 4
}
